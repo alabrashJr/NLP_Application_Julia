{
 "cells": [
  {
   "cell_type": "code",
   "execution_count": 1,
   "metadata": {},
   "outputs": [],
   "source": [
    "# download(\"https://raw.githubusercontent.com/neubig/nn4nlp-code/master/data/tags/train.txt\", \"train.txt\")"
   ]
  },
  {
   "cell_type": "code",
   "execution_count": 2,
   "metadata": {},
   "outputs": [],
   "source": [
    "# download(\"https://raw.githubusercontent.com/neubig/nn4nlp-code/master/data/tags/dev.txt\", \"dev.txt\")"
   ]
  },
  {
   "cell_type": "code",
   "execution_count": 3,
   "metadata": {},
   "outputs": [],
   "source": [
    "# using Pkg;Pkg.add(\"DataStructures\")\n",
    "# Pkg.add(\"Dates\")\n",
    "# Pkg.add(\"StatsBase\")"
   ]
  },
  {
   "cell_type": "code",
   "execution_count": 1,
   "metadata": {},
   "outputs": [
    {
     "name": "stderr",
     "output_type": "stream",
     "text": [
      "┌ Warning: Hardware is unsupported by NNPACK so falling back to default NNlib\n",
      "└ @ NNlib /kuacc/users/aalabrash18/.julia/packages/NNlib/Nksco/src/nnpack/NNPACK.jl:49\n"
     ]
    }
   ],
   "source": [
    "using Knet: KnetArray,Knet, AutoGrad, param, param0, mat, RNN, relu, Data, adam, progress, nll, zeroone, logp, softmax\n",
    "using DataStructures: DefaultDict\n",
    "using IterTools: ncycle, takenth\n",
    "using Random:randsubseq\n",
    "using Random\n",
    "using StatsBase\n",
    "using Dates\n",
    "using Random: shuffle!\n",
    "using Base.Iterators: flatten"
   ]
  },
  {
   "cell_type": "code",
   "execution_count": 2,
   "metadata": {},
   "outputs": [
    {
     "data": {
      "text/plain": [
       "128"
      ]
     },
     "execution_count": 2,
     "metadata": {},
     "output_type": "execute_result"
    }
   ],
   "source": [
    "NXENT = 40\n",
    "NXER = 20\n",
    "delta = 2\n",
    "EMBED_SIZE = 64\n",
    "HIDDEN_SIZE = 128"
   ]
  },
  {
   "cell_type": "code",
   "execution_count": 3,
   "metadata": {},
   "outputs": [
    {
     "data": {
      "text/plain": [
       "read_file (generic function with 1 method)"
      ]
     },
     "execution_count": 3,
     "metadata": {},
     "output_type": "execute_result"
    }
   ],
   "source": [
    "w2i=Dict()\n",
    "t2i=Dict()\n",
    "function read_file(fname)\n",
    "    input_file= readlines(fname)\n",
    "    results=[]\n",
    "    for row in input_file\n",
    "        #@show split(row)\n",
    "        words, tags = Array{Int32,1}(), Array{Int32,1}()\n",
    "        for wt in split(strip(row))\n",
    "            w,t=split(strip(wt),\"|\")\n",
    "         #   @show w,t\n",
    "            get!(w2i,w,length(w2i)+1)\n",
    "             push!(words,w2i[w])\n",
    "            get!(t2i,t,length(t2i)+1)\n",
    "             push!(tags,t2i[t])\n",
    "        end\n",
    "        push!(results,(words,tags))\n",
    "    end\n",
    "    results\n",
    "end"
   ]
  },
  {
   "cell_type": "code",
   "execution_count": 4,
   "metadata": {},
   "outputs": [],
   "source": [
    "train = read_file(\"train.txt\")\n",
    "unk_word = get!(w2i,\"<unk>\",length(w2i)+1)\n",
    "unk_tag =  get!(t2i,\"<unk>\",length(t2i)+1)\n",
    "nwords = length(w2i)\n",
    "\n",
    "words=keys(w2i)\n",
    "allw_i=Array{Int64}(collect(values(w2i)))\n",
    "tags=keys(t2i)\n",
    "allt_i=Array{Int64}(collect(values(t2i)));\n",
    "ntags = length(t2i)\n",
    "\n",
    "dev = read_file(\"dev.txt\");"
   ]
  },
  {
   "cell_type": "code",
   "execution_count": 5,
   "metadata": {},
   "outputs": [],
   "source": [
    "struct Embed; w; end\n",
    "function Embed(vocabsize::Int, embedsize::Int)\n",
    "    # Your code here\n",
    "    Embed(param(embedsize, vocabsize, atype = KnetArray{Float32}))\n",
    "end\n",
    "function (l::Embed)(x)\n",
    "    # Your code here\n",
    "    l.w[:,x]\n",
    "end\n",
    "struct Dense; w; b; f; end\n",
    "Dense(i::Int,o::Int,f=identity) = Dense(param(o,i), param0(o), f)\n",
    "(d::Dense)(x) = d.f.(d.w * mat(x,dims=1) .+ d.b)\n"
   ]
  },
  {
   "cell_type": "code",
   "execution_count": 6,
   "metadata": {},
   "outputs": [],
   "source": [
    "#supervision\n",
    "struct Chain\n",
    "    layers\n",
    "    Chain(layers...) = new(layers)\n",
    "end\n",
    "(c::Chain)(x) = (for l in c.layers; x = l(x); end; x)\n",
    "(c::Chain)(x,y) = nll(c(x),y)"
   ]
  },
  {
   "cell_type": "code",
   "execution_count": 7,
   "metadata": {},
   "outputs": [],
   "source": [
    "#RL \n",
    "struct Chain2\n",
    "    layers\n",
    "    Chain2(layers...) = new(layers)\n",
    "end\n",
    "##\n",
    "(c::Chain2)(x) = (for i in 1:length(c.layers)-2; x = c.layers[i](x); end; x)\n",
    "(c::Chain2)(x,y) = RL_nll(c(x), y)#nll(c(x),y) \n",
    "##after calculating the nll(probs=true)-> sample over the index -> calcuate the rewards -> "
   ]
  },
  {
   "cell_type": "code",
   "execution_count": 8,
   "metadata": {},
   "outputs": [
    {
     "data": {
      "text/plain": [
       "trainresults (generic function with 1 method)"
      ]
     },
     "execution_count": 8,
     "metadata": {},
     "output_type": "execute_result"
    }
   ],
   "source": [
    "function trainresults(file,maker,savemodel)\n",
    "    if (print(\"Train from scratch? \"); readline()[1]=='y')\n",
    "        model = maker()\n",
    "        results = ((nll(model,dev), zeroone(model,dev))\n",
    "                   for x in takenth(progress(adam(model,ncycle(train,20))),700))#500\n",
    "        results = reshape(collect(Float32,flatten(results)),(2,:))\n",
    "        Knet.save(file,\"model\",(savemodel ? model : nothing),\"results\",results)\n",
    "        Knet.gc() # To save gpu memory\n",
    "    else\n",
    "        isfile(file) || download(\"http://people.csail.mit.edu/deniz/models/tutorial/$file\",file)\n",
    "        model,results = Knet.load(file,\"model\",\"results\")\n",
    "    end\n",
    "    println(minimum(results,dims=2))\n",
    "    return model,results\n",
    "end"
   ]
  },
  {
   "cell_type": "code",
   "execution_count": 306,
   "metadata": {},
   "outputs": [
    {
     "name": "stdout",
     "output_type": "stream",
     "text": [
      "Train from scratch? stdin> n\n",
      "Float32[0.37268925; 0.11792755]\n"
     ]
    },
    {
     "data": {
      "text/plain": [
       "(Chain((Embed(P(KnetArray{Float32,2}(64,29002))), RNNRELU(input=64,hidden=128,bidirectional), Dense(P(KnetArray{Float32,2}(10,256)), P(KnetArray{Float32,1}(10)), identity))), Float32[0.5656022 0.52369183 … 0.5997244 0.55756307; 0.16332966 0.1606891 … 0.14010306 0.13046376])"
      ]
     },
     "execution_count": 306,
     "metadata": {},
     "output_type": "execute_result"
    }
   ],
   "source": [
    "Tagger_Supervision(vocab,embed,hidden,output)=Chain(\n",
    "    Embed(vocab,embed),\n",
    "    RNN(embed,hidden,rnnType=:relu,bidirectional=true),\n",
    "    Dense(2hidden,output))\n",
    "supervison() = Tagger_Supervision(length(w2i),EMBED_SIZE,HIDDEN_SIZE,ntags)\n",
    "(supervision_model,results_model) = trainresults(\"tagger113a.jld2\",supervison,true)"
   ]
  },
  {
   "cell_type": "code",
   "execution_count": 307,
   "metadata": {},
   "outputs": [],
   "source": [
    "using Plots; default(fmt=:png,ls=:auto,ymirror=true)"
   ]
  },
  {
   "cell_type": "code",
   "execution_count": 308,
   "metadata": {},
   "outputs": [
    {
     "data": {
      "image/png": "[encoded data removed]"
     },
     "execution_count": 308,
     "metadata": {},
     "output_type": "execute_result"
    }
   ],
   "source": [
    "plot(results_model[2,:], xlabel=\"x100 updates\", ylabel=\"error\",\n",
    "    ylim=(0,0.2), yticks=0:0.01:0.15, labels=[\"biRNN\"])"
   ]
  },
  {
   "cell_type": "code",
   "execution_count": 309,
   "metadata": {},
   "outputs": [
    {
     "data": {
      "image/png": "[encoded data removed]"
     },
     "execution_count": 309,
     "metadata": {},
     "output_type": "execute_result"
    }
   ],
   "source": [
    "plot(results_model[1,:], xlabel=\"x100 updates\", ylabel=\"loss\",\n",
    "    labels=[\"biRNN\"])"
   ]
  },
  {
   "cell_type": "code",
   "execution_count": 310,
   "metadata": {},
   "outputs": [
    {
     "data": {
      "text/plain": [
       "(Embed(P(KnetArray{Float32,2}(64,29002))), RNNRELU(input=64,hidden=128,bidirectional), Dense(P(KnetArray{Float32,2}(10,256)), P(KnetArray{Float32,1}(10)), identity))"
      ]
     },
     "execution_count": 310,
     "metadata": {},
     "output_type": "execute_result"
    }
   ],
   "source": [
    "EMB,LSTM_RNN,DENSE=supervision_model.layers"
   ]
  },
  {
   "cell_type": "code",
   "execution_count": null,
   "metadata": {},
   "outputs": [],
   "source": []
  },
  {
   "cell_type": "code",
   "execution_count": 314,
   "metadata": {},
   "outputs": [
    {
     "data": {
      "text/plain": [
       "Chain2((Embed(P(KnetArray{Float32,2}(64,29002))), RNNRELU(input=64,hidden=128,bidirectional), Dense(P(KnetArray{Float32,2}(10,256)), P(KnetArray{Float32,1}(10)), identity), Dense(P(KnetArray{Float32,2}(1,256)), P(KnetArray{Float32,1}(1)), identity)))"
      ]
     },
     "execution_count": 314,
     "metadata": {},
     "output_type": "execute_result"
    }
   ],
   "source": [
    "Tagger_RL(Embed_layer, Rnn, Rnn_d,hidden)=Chain2(\n",
    "    Embed_layer,\n",
    "    Rnn,\n",
    "    Rnn_d, \n",
    "    Dense(2hidden,1))\n",
    "RL() = Tagger_RL(EMB, LSTM_RNN, DENSE,HIDDEN_SIZE)\n",
    "RL2 = RL()"
   ]
  },
  {
   "cell_type": "code",
   "execution_count": 315,
   "metadata": {},
   "outputs": [
    {
     "data": {
      "text/plain": [
       "RL_nll (generic function with 1 method)"
      ]
     },
     "execution_count": 315,
     "metadata": {},
     "output_type": "execute_result"
    }
   ],
   "source": [
    "function RL_nll(scores_rnn, tags) \n",
    "    scores_rnn_per = permutedims(scores_rnn)\n",
    "    # Do forward pass over the RNN_D layer.\n",
    "    RNN_D = RL2.layers[length(RL2.layers)-1]\n",
    "    scores = RNN_D(scores_rnn)\n",
    "    \n",
    "    losses,_ = nll(scores, tags; average = false)\n",
    "    scores_per = permutedims(scores)\n",
    "    probs = softmax(scores_per; dims = 2)\n",
    "    ####\n",
    "    losses= []\n",
    "    for i in 1:size(scores_per)[1]\n",
    "        loss,_ = nll(scores_per[i,:], [tags[i]], average = false)\n",
    "        push!(losses, loss)\n",
    "    end\n",
    "    ####\n",
    "    \n",
    "    # Sample.\n",
    "    samples = []\n",
    "    for i in 1:size(probs)[1]\n",
    "        sam = sample(collect(1:length(probs[1,:])), Weights(value(Array(probs[i,:]))))#Weights(Array(probs[i,:])))\n",
    "        push!(samples, sam)\n",
    "    end\n",
    "    # Calculate accuracy\n",
    "#     correct = 0\n",
    "#     for i in 1:length(tags)\n",
    "#         if tags[i] == samples[i]\n",
    "#             correct += 1\n",
    "#         end\n",
    "#     end\n",
    "    \n",
    "#     correct=sum(tags.==sampeles)\n",
    "#     r = correct  /  length(tags)\n",
    "    r=sum(tags.==samples) /  length(tags)\n",
    "    r_a = KnetArray{Float32}([Float32(r)])\n",
    "    r_a = reshape(r_a,  (1,1))\n",
    "    \n",
    "    # Do forward pass over the Reward Dense. \n",
    "    RL_layer = RL2.layers[length(RL2.layers)]\n",
    "    r_b = []\n",
    "    for i in 1:size(scores_rnn_per)[1]\n",
    "        r_i = RL_layer(scores_rnn_per[i,:])\n",
    "        push!(r_b, r_i)\n",
    "    end\n",
    "    rewards_over_baseline = [r_a - x for x in r_b]\n",
    "    \n",
    "    baseline_scores = [(r_a-x)*(r_a-x) for x in r_b]\n",
    "    \n",
    "     reinforce_scores = []\n",
    "     for i in 1:size(scores_per)[1]\n",
    "         re_s = losses[i]*value(rewards_over_baseline[i])\n",
    "         push!(reinforce_scores, re_s)\n",
    "     end\n",
    "    \n",
    "    #reinforce_scores=scores_per.* value(rewards_over_baseline)\n",
    "   \n",
    "    base_sum = sum(baseline_scores); \n",
    "    mixer_sum = sum(reinforce_scores);\n",
    "    return mixer_sum[1], base_sum[1]\n",
    "end"
   ]
  },
  {
   "cell_type": "code",
   "execution_count": 316,
   "metadata": {},
   "outputs": [],
   "source": [
    "using Knet"
   ]
  },
  {
   "cell_type": "code",
   "execution_count": 317,
   "metadata": {},
   "outputs": [
    {
     "data": {
      "text/latex": [
       "\\begin{verbatim}\n",
       "nll(scores, answers; dims=1, average=true)\n",
       "\\end{verbatim}\n",
       "Given an unnormalized \\texttt{scores} matrix and an \\texttt{Integer} array of correct \\texttt{answers}, return the negative log likelihood. The \\texttt{scores} matrix should have size (classes,instances) if \\texttt{dims=1} or (instances,classes) if \\texttt{dims=2}. \\texttt{answers[i]} should be in \\texttt{1:classes} to indicate the correct class for instance i, or 0 to skip instance i. The return value is \\texttt{(total/count)} if \\texttt{average=true} and \\texttt{(total,count)} if \\texttt{average=false} where \\texttt{count} is the number of instances not skipped and \\texttt{total} is their total negative log likelihood.\n",
       "\n",
       "\\begin{verbatim}\n",
       "nll(model, data; dims=1, average=true, o...)\n",
       "\\end{verbatim}\n",
       "Compute negative log likelihood \\texttt{nll(model(x; o...), y; dims)} for \\texttt{(x,y)} in \\texttt{data} and return \\texttt{(total/count)} if \\texttt{average=true} or \\texttt{(total,count)} if \\texttt{average=false}.\n",
       "\n"
      ],
      "text/markdown": [
       "```\n",
       "nll(scores, answers; dims=1, average=true)\n",
       "```\n",
       "\n",
       "Given an unnormalized `scores` matrix and an `Integer` array of correct `answers`, return the negative log likelihood. The `scores` matrix should have size (classes,instances) if `dims=1` or (instances,classes) if `dims=2`. `answers[i]` should be in `1:classes` to indicate the correct class for instance i, or 0 to skip instance i. The return value is `(total/count)` if `average=true` and `(total,count)` if `average=false` where `count` is the number of instances not skipped and `total` is their total negative log likelihood.\n",
       "\n",
       "```\n",
       "nll(model, data; dims=1, average=true, o...)\n",
       "```\n",
       "\n",
       "Compute negative log likelihood `nll(model(x; o...), y; dims)` for `(x,y)` in `data` and return `(total/count)` if `average=true` or `(total,count)` if `average=false`.\n"
      ],
      "text/plain": [
       "\u001b[36m  nll(scores, answers; dims=1, average=true)\u001b[39m\n",
       "\n",
       "  Given an unnormalized \u001b[36mscores\u001b[39m matrix and an \u001b[36mInteger\u001b[39m array of correct \u001b[36manswers\u001b[39m,\n",
       "  return the negative log likelihood. The \u001b[36mscores\u001b[39m matrix should have size\n",
       "  (classes,instances) if \u001b[36mdims=1\u001b[39m or (instances,classes) if \u001b[36mdims=2\u001b[39m. \u001b[36manswers[i]\u001b[39m\n",
       "  should be in \u001b[36m1:classes\u001b[39m to indicate the correct class for instance i, or 0 to\n",
       "  skip instance i. The return value is \u001b[36m(total/count)\u001b[39m if \u001b[36maverage=true\u001b[39m and\n",
       "  \u001b[36m(total,count)\u001b[39m if \u001b[36maverage=false\u001b[39m where \u001b[36mcount\u001b[39m is the number of instances not\n",
       "  skipped and \u001b[36mtotal\u001b[39m is their total negative log likelihood.\n",
       "\n",
       "\u001b[36m  nll(model, data; dims=1, average=true, o...)\u001b[39m\n",
       "\n",
       "  Compute negative log likelihood \u001b[36mnll(model(x; o...), y; dims)\u001b[39m for \u001b[36m(x,y)\u001b[39m in\n",
       "  \u001b[36mdata\u001b[39m and return \u001b[36m(total/count)\u001b[39m if \u001b[36maverage=true\u001b[39m or \u001b[36m(total,count)\u001b[39m if\n",
       "  \u001b[36maverage=false\u001b[39m."
      ]
     },
     "execution_count": 317,
     "metadata": {},
     "output_type": "execute_result"
    }
   ],
   "source": [
    "@doc nll"
   ]
  },
  {
   "cell_type": "code",
   "execution_count": 318,
   "metadata": {},
   "outputs": [
    {
     "data": {
      "text/plain": [
       "T(0.13832766)"
      ]
     },
     "execution_count": 318,
     "metadata": {},
     "output_type": "execute_result"
    }
   ],
   "source": [
    "@diff RL2(train[2][1],train[2][2])[1]"
   ]
  },
  {
   "cell_type": "code",
   "execution_count": 319,
   "metadata": {},
   "outputs": [
    {
     "data": {
      "text/plain": [
       "6-element Array{Param,1}:\n",
       " P(KnetArray{Float32,2}(64,29002)) \n",
       " P(KnetArray{Float32,3}(1,1,49664))\n",
       " P(KnetArray{Float32,2}(10,256))   \n",
       " P(KnetArray{Float32,1}(10))       \n",
       " P(KnetArray{Float32,2}(1,256))    \n",
       " P(KnetArray{Float32,1}(1))        "
      ]
     },
     "execution_count": 319,
     "metadata": {},
     "output_type": "execute_result"
    }
   ],
   "source": [
    "old_wieghts=deepcopy(params(RL2))"
   ]
  },
  {
   "cell_type": "code",
   "execution_count": 320,
   "metadata": {},
   "outputs": [
    {
     "data": {
      "text/plain": [
       "model_forward (generic function with 1 method)"
      ]
     },
     "execution_count": 320,
     "metadata": {},
     "output_type": "execute_result"
    }
   ],
   "source": [
    "function model_forward(sent)\n",
    "    RL2.layers[length(RL2.layers)-1](RL2(sent))\n",
    "end"
   ]
  },
  {
   "cell_type": "code",
   "execution_count": 321,
   "metadata": {},
   "outputs": [
    {
     "data": {
      "text/plain": [
       "0"
      ]
     },
     "execution_count": 321,
     "metadata": {},
     "output_type": "execute_result"
    }
   ],
   "source": [
    "lr=0.0001; gclip=0; beta1=0.9; beta2=0.999; eps=1e-8;t=0\n",
    "#adam\n",
    "# v = beta1 * v + (1 - beta1) * g\n",
    "# G = beta2 * G + (1 - beta2) * g .^ 2\n",
    "# vhat = v ./ (1 - beta1 ^ t)\n",
    "# Ghat = G ./ (1 - beta2 ^ t)\n",
    "# w = w - (lr / (sqrt(Ghat) + eps)) * vhat\n",
    "\n",
    "\n",
    "#sgd\n",
    "# w .= w - lr * g"
   ]
  },
  {
   "cell_type": "code",
   "execution_count": 322,
   "metadata": {},
   "outputs": [
    {
     "data": {
      "text/plain": [
       "optimize (generic function with 1 method)"
      ]
     },
     "execution_count": 322,
     "metadata": {},
     "output_type": "execute_result"
    }
   ],
   "source": [
    "#TODO change SGD to adam optimizer\n",
    "function optimize(model,train; lr=0.0001,nextprint=10,epoch=1)\n",
    "    w1 = params(model)[[1,2,3,4]]\n",
    "    w2 = params(model)[[5,6]]\n",
    "    for ep in 1:epoch\n",
    "        iters = length(train)\n",
    "        for t = 1:iters\n",
    "            L1 = @diff model(train[t][1], train[t][2])[1]\n",
    "            L2 = @diff model(train[t][1], train[t][2])[2]\n",
    "            if t % 1000 == 0\n",
    "               println(\"Iter: \", t) \n",
    "            end\n",
    "            for i in 1:length(w1)\n",
    "                ∇wi = grad(L1,w1[i])\n",
    "                if ∇wi != nothing;\n",
    "                     w1[i] .-= lr * AutoGrad.full(∇wi);\n",
    "                        #v = beta1 * v + (1 - beta1) * AutoGrad.full(∇wi);\n",
    "                        #G = beta2 * G + (1 - beta2) * AutoGrad.full(∇wi); #.^ 2\n",
    "                        #vhat = v ./ (1 - beta1 ^ t)\n",
    "                        #Ghat = G ./ (1 - beta2 ^ t)\n",
    "                        #w1[i] = w1[i] - (lr / (sqrt(Ghat) + eps)) * vhat\n",
    "                end\n",
    "            end\n",
    "        \n",
    "            for i in 1:length(w2)\n",
    "                ∇wi2 = grad(L2,w2[i])\n",
    "                if ∇wi2 != nothing;\n",
    "                    w2[i] .-= lr * AutoGrad.full(∇wi2);\n",
    "                        #v2 = beta1 * v2 + (1 - beta1) * AutoGrad.full(∇wi2);\n",
    "                        #G_2 = beta2 * G_2 + (1 - beta2) * AutoGrad.full(∇wi2); #.^ 2\n",
    "                        #vhat_2 = v2 ./ (1 - beta1 ^ t)\n",
    "                        #Ghat_2 = G_2 ./ (1 - beta2 ^ t)\n",
    "                        #w2[i] = w2[i] - (lr / (sqrt(Ghat_2) + eps)) * vhat_2\n",
    "                end\n",
    "            end\n",
    "        end  \n",
    "           println((epoch=ep, error=zeroone(model_forward,dev)))\n",
    "    end\n",
    "    #w1,w2\n",
    "end"
   ]
  },
  {
   "cell_type": "code",
   "execution_count": 323,
   "metadata": {},
   "outputs": [
    {
     "name": "stdout",
     "output_type": "stream",
     "text": [
      "Iter: 1000\n",
      "Iter: 2000\n",
      "Iter: 3000\n",
      "Iter: 4000\n",
      "Iter: 5000\n",
      "Iter: 6000\n",
      "Iter: 7000\n",
      "Iter: 8000\n",
      "Iter: 9000\n",
      "Iter: 10000\n",
      "(epoch = 1, error = 0.1304381264901172)\n",
      "Iter: 1000\n",
      "Iter: 2000\n",
      "Iter: 3000\n",
      "Iter: 4000\n",
      "Iter: 5000\n",
      "Iter: 6000\n",
      "Iter: 7000\n",
      "Iter: 8000\n",
      "Iter: 9000\n",
      "Iter: 10000\n",
      "(epoch = 2, error = 0.1315404927320737)\n",
      "Iter: 1000\n",
      "Iter: 2000\n",
      "Iter: 3000\n",
      "Iter: 4000\n",
      "Iter: 5000\n",
      "Iter: 6000\n",
      "Iter: 7000\n",
      "Iter: 8000\n",
      "Iter: 9000\n",
      "Iter: 10000\n",
      "(epoch = 3, error = 0.13074576358089574)\n",
      "Iter: 1000\n",
      "Iter: 2000\n",
      "Iter: 3000\n",
      "Iter: 4000\n",
      "Iter: 5000\n",
      "Iter: 6000\n",
      "Iter: 7000\n",
      "Iter: 8000\n",
      "Iter: 9000\n",
      "Iter: 10000\n",
      "(epoch = 4, error = 0.131694311277463)\n",
      "Iter: 1000\n",
      "Iter: 2000\n",
      "Iter: 3000\n",
      "Iter: 4000\n",
      "Iter: 5000\n",
      "Iter: 6000\n",
      "Iter: 7000\n",
      "Iter: 8000\n",
      "Iter: 9000\n",
      "Iter: 10000\n",
      "(epoch = 5, error = 0.13254031327710414)\n",
      "Iter: 1000\n",
      "Iter: 2000\n",
      "Iter: 3000\n",
      "Iter: 4000\n",
      "Iter: 5000\n",
      "Iter: 6000\n",
      "Iter: 7000\n",
      "Iter: 8000\n",
      "Iter: 9000\n",
      "Iter: 10000\n",
      "(epoch = 6, error = 0.13220703976209403)\n",
      "Iter: 1000\n",
      "Iter: 2000\n",
      "Iter: 3000\n",
      "Iter: 4000\n",
      "Iter: 5000\n",
      "Iter: 6000\n",
      "Iter: 7000\n",
      "Iter: 8000\n",
      "Iter: 9000\n",
      "Iter: 10000\n",
      "(epoch = 7, error = 0.13377086164021845)\n",
      "Iter: 1000\n",
      "Iter: 2000\n",
      "Iter: 3000\n",
      "Iter: 4000\n",
      "Iter: 5000\n",
      "Iter: 6000\n",
      "Iter: 7000\n",
      "Iter: 8000\n",
      "Iter: 9000\n",
      "Iter: 10000\n",
      "(epoch = 8, error = 0.13379649806444993)\n",
      "Iter: 1000\n",
      "Iter: 2000\n",
      "Iter: 3000\n",
      "Iter: 4000\n",
      "Iter: 5000\n",
      "Iter: 6000\n",
      "Iter: 7000\n",
      "Iter: 8000\n",
      "Iter: 9000\n",
      "Iter: 10000\n",
      "(epoch = 9, error = 0.13592432127566845)\n",
      "Iter: 1000\n",
      "Iter: 2000\n",
      "Iter: 3000\n",
      "Iter: 4000\n",
      "Iter: 5000\n",
      "Iter: 6000\n",
      "Iter: 7000\n",
      "Iter: 8000\n",
      "Iter: 9000\n",
      "Iter: 10000\n",
      "(epoch = 10, error = 0.13669341400261492)\n"
     ]
    }
   ],
   "source": [
    "optimize(RL2, train;nextprint=length(train),epoch=20)"
   ]
  },
  {
   "cell_type": "code",
   "execution_count": null,
   "metadata": {},
   "outputs": [],
   "source": []
  },
  {
   "cell_type": "code",
   "execution_count": null,
   "metadata": {},
   "outputs": [],
   "source": []
  },
  {
   "cell_type": "code",
   "execution_count": null,
   "metadata": {},
   "outputs": [],
   "source": []
  },
  {
   "cell_type": "code",
   "execution_count": null,
   "metadata": {},
   "outputs": [],
   "source": []
  }
 ],
 "metadata": {
  "@webio": {
   "lastCommId": null,
   "lastKernelId": null
  },
  "kernelspec": {
   "display_name": "Julia 1.2.0",
   "language": "julia",
   "name": "julia-1.2"
  },
  "language_info": {
   "file_extension": ".jl",
   "mimetype": "application/julia",
   "name": "julia",
   "version": "1.2.0"
  }
 },
 "nbformat": 4,
 "nbformat_minor": 2
}
