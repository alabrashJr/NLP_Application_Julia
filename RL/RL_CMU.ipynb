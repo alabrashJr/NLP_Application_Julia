{
 "cells": [
  {
   "cell_type": "code",
   "execution_count": 1,
   "metadata": {},
   "outputs": [],
   "source": [
    "download(\"https://raw.githubusercontent.com/neubig/nn4nlp-code/master/data/tags/train.txt\", \"train.txt\")"
   ]
  },
  {
   "cell_type": "code",
   "execution_count": 2,
   "metadata": {},
   "outputs": [],
   "source": [
    "download(\"https://raw.githubusercontent.com/neubig/nn4nlp-code/master/data/tags/dev.txt\", \"dev.txt\")"
   ]
  },
  {
   "cell_type": "code",
   "execution_count": 3,
   "metadata": {},
   "outputs": [],
   "source": [
    "using Pkg;Pkg.add(\"DataStructures\")\n",
    "Pkg.add(\"Dates\")\n",
    "Pkg.add(\"StatsBase\")"
   ]
  },
  {
   "cell_type": "code",
   "execution_count": 1,
   "metadata": {},
   "outputs": [
    {
     "name": "stderr",
     "output_type": "stream",
     "text": [
      "┌ Warning: Hardware is unsupported by NNPACK so falling back to default NNlib\n",
      "└ @ NNlib /kuacc/users/aalabrash18/.julia/packages/NNlib/Nksco/src/nnpack/NNPACK.jl:49\n"
     ]
    }
   ],
   "source": [
    "using Knet: KnetArray,Knet, AutoGrad, param, param0, mat, RNN, relu, Data, adam, progress, nll, zeroone, logp, softmax\n",
    "using DataStructures: DefaultDict\n",
    "using IterTools: ncycle, takenth\n",
    "using Random:randsubseq\n",
    "using Random\n",
    "using StatsBase\n",
    "using Dates\n",
    "using Random: shuffle!\n",
    "using Base.Iterators: flatten\n",
    "using Dates"
   ]
  },
  {
   "cell_type": "code",
   "execution_count": 2,
   "metadata": {},
   "outputs": [
    {
     "data": {
      "text/plain": [
       "128"
      ]
     },
     "execution_count": 2,
     "metadata": {},
     "output_type": "execute_result"
    }
   ],
   "source": [
    "NXENT = 40\n",
    "NXER = 20\n",
    "delta = 2\n",
    "EMBED_SIZE = 64\n",
    "HIDDEN_SIZE = 128"
   ]
  },
  {
   "cell_type": "code",
   "execution_count": 3,
   "metadata": {},
   "outputs": [
    {
     "data": {
      "text/plain": [
       "read_file (generic function with 1 method)"
      ]
     },
     "execution_count": 3,
     "metadata": {},
     "output_type": "execute_result"
    }
   ],
   "source": [
    "w2i=Dict()\n",
    "t2i=Dict()\n",
    "function read_file(fname)\n",
    "    input_file= readlines(fname)\n",
    "    results=[]\n",
    "    for row in input_file\n",
    "        #@show split(row)\n",
    "        words, tags = Array{Int32,1}(), Array{Int32,1}()\n",
    "        for wt in split(strip(row))\n",
    "            w,t=split(strip(wt),\"|\")\n",
    "         #   @show w,t\n",
    "            get!(w2i,w,length(w2i)+1)\n",
    "             push!(words,w2i[w])\n",
    "            get!(t2i,t,length(t2i)+1)\n",
    "             push!(tags,t2i[t])\n",
    "        end\n",
    "        push!(results,(words,tags))\n",
    "    end\n",
    "    results\n",
    "end"
   ]
  },
  {
   "cell_type": "code",
   "execution_count": 4,
   "metadata": {},
   "outputs": [],
   "source": [
    "train = read_file(\"train.txt\")\n",
    "unk_word = get!(w2i,\"<unk>\",length(w2i)+1)\n",
    "unk_tag =  get!(t2i,\"<unk>\",length(t2i)+1)\n",
    "nwords = length(w2i)\n",
    "\n",
    "words=keys(w2i)\n",
    "allw_i=Array{Int64}(collect(values(w2i)))\n",
    "tags=keys(t2i)\n",
    "allt_i=Array{Int64}(collect(values(t2i)));\n",
    "ntags = length(t2i)\n",
    "\n",
    "dev = read_file(\"dev.txt\");"
   ]
  },
  {
   "cell_type": "code",
   "execution_count": 5,
   "metadata": {},
   "outputs": [],
   "source": [
    "struct Embed; w; end\n",
    "function Embed(vocabsize::Int, embedsize::Int)\n",
    "    # Your code here\n",
    "    Embed(param(embedsize, vocabsize, atype = KnetArray{Float32}))\n",
    "end\n",
    "function (l::Embed)(x)\n",
    "    # Your code here\n",
    "    l.w[:,x]\n",
    "end\n",
    "struct Dense; w; b; f; end\n",
    "Dense(i::Int,o::Int,f=identity) = Dense(param(o,i), param0(o), f)\n",
    "(d::Dense)(x) = d.f.(d.w * mat(x,dims=1) .+ d.b)\n"
   ]
  },
  {
   "cell_type": "code",
   "execution_count": 6,
   "metadata": {},
   "outputs": [],
   "source": [
    "#supervision\n",
    "struct Chain\n",
    "    layers\n",
    "    Chain(layers...) = new(layers)\n",
    "end\n",
    "(c::Chain)(x) = (for l in c.layers; x = l(x); end; x)\n",
    "(c::Chain)(x,y) = nll(c(x),y)"
   ]
  },
  {
   "cell_type": "code",
   "execution_count": 7,
   "metadata": {},
   "outputs": [],
   "source": [
    "#RL \n",
    "struct Chain2\n",
    "    layers\n",
    "    Chain2(layers...) = new(layers)\n",
    "end\n",
    "##\n",
    "(c::Chain2)(x) = (for i in 1:length(c.layers)-2; x = c.layers[i](x); end; x)\n",
    "(c::Chain2)(x,y) = RL_nll(c(x), y)#nll(c(x),y) \n",
    "##after calculating the nll(probs=true)-> sample over the index -> calcuate the rewards -> "
   ]
  },
  {
   "cell_type": "code",
   "execution_count": 8,
   "metadata": {},
   "outputs": [],
   "source": [
    "using Knet"
   ]
  },
  {
   "cell_type": "code",
   "execution_count": 9,
   "metadata": {},
   "outputs": [
    {
     "data": {
      "text/plain": [
       "trainresults (generic function with 1 method)"
      ]
     },
     "execution_count": 9,
     "metadata": {},
     "output_type": "execute_result"
    }
   ],
   "source": [
    "function trainresults(file,maker,savemodel)\n",
    "    if (print(\"Train from scratch? \"); readline()[1]=='y')\n",
    "        model = maker()\n",
    "#         results = ((nll(model,dev), zeroone(model,dev))\n",
    "        progress!(adam(model,ncycle(train,20)),seconds=60) do y               \n",
    "        devloss = nll(model, dev)\n",
    "        println(stderr)\n",
    "        (trn_loss=nll(model,train),dev_loss=devloss,accuracy_train=1-zeroone(model,train), accuracy_dev=1-zeroone(model,dev))\n",
    "        end\n",
    "        Knet.save(file,\"model\",(savemodel ? model : nothing))\n",
    "        Knet.gc()\n",
    "    else\n",
    "        model = Knet.load(file,\"model\")\n",
    "    end\n",
    "    return model\n",
    "end"
   ]
  },
  {
   "cell_type": "code",
   "execution_count": 10,
   "metadata": {},
   "outputs": [
    {
     "name": "stdout",
     "output_type": "stream",
     "text": [
      "Train from scratch? stdin> n\n"
     ]
    },
    {
     "data": {
      "text/plain": [
       "Chain((Embed(P(KnetArray{Float32,2}(64,29002))), RNNRELU(input=64,hidden=128,bidirectional), Dense(P(KnetArray{Float32,2}(10,256)), P(KnetArray{Float32,1}(10)), identity)))"
      ]
     },
     "execution_count": 10,
     "metadata": {},
     "output_type": "execute_result"
    }
   ],
   "source": [
    "Tagger_Supervision(vocab,embed,hidden,output)=Chain(\n",
    "    Embed(vocab,embed),\n",
    "    RNN(embed,hidden,rnnType=:relu,bidirectional=true),\n",
    "    Dense(2hidden,output))\n",
    "supervison() = Tagger_Supervision(length(w2i),EMBED_SIZE,HIDDEN_SIZE,ntags)\n",
    "supervision_model = trainresults(\"tagger113a.jld2\",supervison,true)"
   ]
  },
  {
   "cell_type": "code",
   "execution_count": 10,
   "metadata": {
    "scrolled": true
   },
   "outputs": [
    {
     "name": "stdout",
     "output_type": "stream",
     "text": [
      "Train from scratch? stdin> y\n"
     ]
    },
    {
     "name": "stderr",
     "output_type": "stream",
     "text": [
      "\n",
      "┣                    ┫ [0.00%, 1/200000, 00:28/1577:47:24, 28.40s/i] (trn_loss = 2.2919664f0, dev_loss = 2.2923627f0, accuracy_train = 0.8625654133640813, accuracy_dev = 0.8351321557669137)\n",
      "┣█▋                  ┫ [8.53%, 17060/200000, 01:37/18:57, 248.65i/s] (trn_loss = 0.13141876f0, dev_loss = 0.45431554f0, accuracy_train = 0.9702182730065555, accuracy_dev = 0.8793037147178712)\n",
      "┣███▍                ┫ [17.27%, 34550/200000, 02:46/15:59, 254.46i/s] (trn_loss = 0.15131481f0, dev_loss = 0.43436384f0, accuracy_train = 0.9570630306646563, accuracy_dev = 0.8753300689619812)\n",
      "┣█████▏              ┫ [26.03%, 52065/200000, 03:54/15:00, 255.90i/s] (trn_loss = 0.14088894f0, dev_loss = 0.45307937f0, accuracy_train = 0.9626226626565284, accuracy_dev = 0.8797908067782706)\n",
      "┣██████▉             ┫ [34.82%, 69647/200000, 05:03/14:29, 256.33i/s] (trn_loss = 0.17293346f0, dev_loss = 0.4608875f0, accuracy_train = 0.9532853836912086, accuracy_dev = 0.8733304278719204)\n",
      "┣████████▋           ┫ [43.61%, 87226/200000, 06:11/14:11, 256.80i/s] (trn_loss = 0.13635896f0, dev_loss = 0.44570404f0, accuracy_train = 0.9636950789798338, accuracy_dev = 0.8791498961724818)\n",
      "┣██████████▍         ┫ [52.42%, 104847/200000, 07:20/13:59, 257.00i/s] (trn_loss = 0.17315127f0, dev_loss = 0.4869388f0, accuracy_train = 0.9518380248187778, accuracy_dev = 0.8749967954469711)\n",
      "┣████████████▎       ┫ [61.29%, 122589/200000, 08:28/13:49, 259.95i/s] (trn_loss = 0.17850813f0, dev_loss = 0.49052292f0, accuracy_train = 0.9453954635983196, accuracy_dev = 0.8676391416925168)\n",
      "┣██████████████      ┫ [70.35%, 140706/200000, 09:36/13:39, 266.44i/s] (trn_loss = 0.17256534f0, dev_loss = 0.54445994f0, accuracy_train = 0.9467299365419815, accuracy_dev = 0.8726382444176686)\n",
      "┣███████████████▉    ┫ [79.41%, 158825/200000, 10:44/13:31, 266.37i/s] (trn_loss = 0.18178873f0, dev_loss = 0.56857044f0, accuracy_train = 0.941980664253058, accuracy_dev = 0.8674596867228959)\n",
      "┣█████████████████▋  ┫ [88.47%, 176934/200000, 11:52/13:25, 265.57i/s] (trn_loss = 0.35037223f0, dev_loss = 0.7191933f0, accuracy_train = 0.8836589554826276, accuracy_dev = 0.8240572204988849)\n",
      "┣███████████████████▌┫ [97.51%, 195021/200000, 13:00/13:20, 265.11i/s] (trn_loss = 0.19068237f0, dev_loss = 0.57383853f0, accuracy_train = 0.9437989340343012, accuracy_dev = 0.814059015048581)\n",
      "┣████████████████████┫ [100.00%, 200000/200000, 13:25/13:25, 248.44i/s] (trn_loss = 0.2260422f0, dev_loss = 0.61625963f0, accuracy_train = 0.9299945976019803, accuracy_dev = 0.8617940369677237)\n"
     ]
    },
    {
     "data": {
      "text/plain": [
       "Chain((Embed(P(KnetArray{Float32,2}(64,29002))), RNNRELU(input=64,hidden=128,bidirectional), Dense(P(KnetArray{Float32,2}(10,256)), P(KnetArray{Float32,1}(10)), identity)))"
      ]
     },
     "execution_count": 10,
     "metadata": {},
     "output_type": "execute_result"
    }
   ],
   "source": [
    "Tagger_Supervision(vocab,embed,hidden,output)=Chain(\n",
    "    Embed(vocab,embed),\n",
    "    RNN(embed,hidden,rnnType=:relu,bidirectional=true),\n",
    "    Dense(2hidden,output))\n",
    "supervison() = Tagger_Supervision(length(w2i),EMBED_SIZE,HIDDEN_SIZE,ntags)\n",
    "supervision_model = trainresults(\"tagger113a.jld2\",supervison,true)"
   ]
  },
  {
   "cell_type": "code",
   "execution_count": 11,
   "metadata": {},
   "outputs": [
    {
     "data": {
      "text/plain": [
       "(Embed(P(KnetArray{Float32,2}(64,29002))), RNNRELU(input=64,hidden=128,bidirectional), Dense(P(KnetArray{Float32,2}(10,256)), P(KnetArray{Float32,1}(10)), identity))"
      ]
     },
     "execution_count": 11,
     "metadata": {},
     "output_type": "execute_result"
    }
   ],
   "source": [
    "EMB,LSTM_RNN,DENSE=supervision_model.layers"
   ]
  },
  {
   "cell_type": "code",
   "execution_count": 12,
   "metadata": {},
   "outputs": [
    {
     "data": {
      "text/plain": [
       "Chain2((Embed(P(KnetArray{Float32,2}(64,29002))), RNNRELU(input=64,hidden=128,bidirectional), Dense(P(KnetArray{Float32,2}(10,256)), P(KnetArray{Float32,1}(10)), identity), Dense(P(KnetArray{Float32,2}(1,256)), P(KnetArray{Float32,1}(1)), identity)))"
      ]
     },
     "execution_count": 12,
     "metadata": {},
     "output_type": "execute_result"
    }
   ],
   "source": [
    "Tagger_RL(Embed_layer, Rnn, Rnn_d,hidden)=Chain2(\n",
    "    Embed_layer,\n",
    "    Rnn,\n",
    "    Rnn_d, \n",
    "    Dense(2hidden,1))\n",
    "RL() = Tagger_RL(EMB, LSTM_RNN, DENSE,HIDDEN_SIZE)\n",
    "RL2 = RL()"
   ]
  },
  {
   "cell_type": "code",
   "execution_count": 13,
   "metadata": {},
   "outputs": [
    {
     "data": {
      "text/plain": [
       "RL_nll (generic function with 1 method)"
      ]
     },
     "execution_count": 13,
     "metadata": {},
     "output_type": "execute_result"
    }
   ],
   "source": [
    "function RL_nll(scores_rnn, tags) \n",
    "    scores_rnn_per = permutedims(scores_rnn)\n",
    "    # Do forward pass over the RNN_D layer.\n",
    "    RNN_D = RL2.layers[length(RL2.layers)-1]\n",
    "    scores = RNN_D(scores_rnn)\n",
    "    \n",
    "    losses,_ = nll(scores, tags; average = false)\n",
    "    scores_per = permutedims(scores)\n",
    "    probs = softmax(scores_per; dims = 2)\n",
    "    losses= []\n",
    "    for i in 1:size(scores_per)[1]\n",
    "        loss,_ = nll(scores_per[i,:], [tags[i]], average = false)\n",
    "        push!(losses, loss)\n",
    "    end\n",
    "    \n",
    "    # Sample.\n",
    "    samples = []\n",
    "    for i in 1:size(probs)[1]\n",
    "        sam = sample(collect(1:length(probs[1,:])), Weights(value(Array(probs[i,:]))))#Weights(Array(probs[i,:])))\n",
    "        push!(samples, sam)\n",
    "    end\n",
    "    # Calculate accuracy\n",
    "    r=sum(tags.==samples) /  length(tags)\n",
    "    r_a = KnetArray{Float32}([Float32(r)])\n",
    "    r_a = reshape(r_a,  (1,1))\n",
    "    \n",
    "    # Do forward pass over the Reward Dense. \n",
    "    RL_layer = RL2.layers[length(RL2.layers)]\n",
    "    r_b = []\n",
    "    for i in 1:size(scores_rnn_per)[1]\n",
    "        r_i = RL_layer(scores_rnn_per[i,:])\n",
    "        push!(r_b, r_i)\n",
    "    end\n",
    "    rewards_over_baseline = [r_a - x for x in r_b]\n",
    "    \n",
    "    baseline_scores = [(r_a-x)*(r_a-x) for x in r_b]\n",
    "    \n",
    "     reinforce_scores = []\n",
    "     for i in 1:size(scores_per)[1]\n",
    "         re_s = losses[i]*value(rewards_over_baseline[i])\n",
    "         push!(reinforce_scores, re_s)\n",
    "     end\n",
    "       \n",
    "    base_sum = sum(baseline_scores); \n",
    "    mixer_sum = sum(reinforce_scores);\n",
    "    return mixer_sum[1], base_sum[1]\n",
    "end"
   ]
  },
  {
   "cell_type": "code",
   "execution_count": 14,
   "metadata": {},
   "outputs": [
    {
     "data": {
      "text/plain": [
       "model_forward (generic function with 1 method)"
      ]
     },
     "execution_count": 14,
     "metadata": {},
     "output_type": "execute_result"
    }
   ],
   "source": [
    "function model_forward(sent)\n",
    "    RL2.layers[length(RL2.layers)-1](RL2(sent))\n",
    "end"
   ]
  },
  {
   "cell_type": "markdown",
   "metadata": {},
   "source": [
    "<h3>REINFORCE Training Part </h3>"
   ]
  },
  {
   "cell_type": "code",
   "execution_count": 28,
   "metadata": {},
   "outputs": [
    {
     "data": {
      "text/plain": [
       "optimize (generic function with 1 method)"
      ]
     },
     "execution_count": 28,
     "metadata": {},
     "output_type": "execute_result"
    }
   ],
   "source": [
    "function optimize(model,train; lr=0.0001,seconds=60,epoch=1)\n",
    "    starting_time=parse(Int,Dates.format(now(),\"SS\"))\n",
    "    time=now()\n",
    "    w1 = params(model)[[1,2,3,4]]\n",
    "    w2 = params(model)[[5,6]]\n",
    "    for ep in 1:epoch\n",
    "        iters = length(train)\n",
    "        for t = 1:iters\n",
    "            L1 = @diff model(train[t][1], train[t][2])[1]\n",
    "            L2 = @diff model(train[t][1], train[t][2])[2]\n",
    "#             if t % 1000 == 0\n",
    "#                println(\"Iter: \", t) \n",
    "#             end\n",
    "            for i in 1:length(w1)\n",
    "                ∇wi = grad(L1,w1[i])\n",
    "                if ∇wi != nothing;\n",
    "                     w1[i] .-= lr * AutoGrad.full(∇wi);\n",
    "                end\n",
    "            end\n",
    "        \n",
    "            for i in 1:length(w2)\n",
    "                ∇wi2 = grad(L2,w2[i])\n",
    "                if ∇wi2 != nothing;\n",
    "                    w2[i] .-= lr * AutoGrad.full(∇wi2);\n",
    "                end\n",
    "            end\n",
    "            if(parse(Int,Dates.format(now(),\"SS\"))-starting_time)%seconds==0\n",
    "                println((epoch=ep,accuracy_dev=1-zeroone(model_forward,dev) , loss_trn=value(L1)+value(L2) , time=(now()-time)))\n",
    "                starting_time=starting_time+60\n",
    "            end\n",
    "        end  \n",
    "    end\n",
    "    #w1,w2\n",
    "end"
   ]
  },
  {
   "cell_type": "code",
   "execution_count": 29,
   "metadata": {},
   "outputs": [
    {
     "name": "stdout",
     "output_type": "stream",
     "text": [
      "(epoch = 1, accuracy_dev = 0.8649473171482042, loss_trn = 1.2439224f0, time = 952 milliseconds)\n",
      "(epoch = 1, accuracy_dev = 0.8653574999359089, loss_trn = 0.36755392f0, time = 60072 milliseconds)\n",
      "(epoch = 1, accuracy_dev = 0.8653831363601405, loss_trn = 0.38101205f0, time = 60713 milliseconds)\n",
      "(epoch = 1, accuracy_dev = 0.8648704078755095, loss_trn = 0.2603824f0, time = 120178 milliseconds)\n",
      "(epoch = 1, accuracy_dev = 0.8648704078755095, loss_trn = 1.7023038f0, time = 120866 milliseconds)\n",
      "(epoch = 1, accuracy_dev = 0.865921501269003, loss_trn = 2.2027082f0, time = 180087 milliseconds)\n",
      "(epoch = 1, accuracy_dev = 0.865921501269003, loss_trn = 0.85630894f0, time = 180694 milliseconds)\n",
      "(epoch = 1, accuracy_dev = 0.8664855026020971, loss_trn = 0.07008718f0, time = 240040 milliseconds)\n",
      "(epoch = 1, accuracy_dev = 0.8664855026020971, loss_trn = 0.040717885f0, time = 240699 milliseconds)\n",
      "(epoch = 1, accuracy_dev = 0.8677416873894429, loss_trn = 1.2411798f0, time = 300165 milliseconds)\n",
      "(epoch = 1, accuracy_dev = 0.8677416873894429, loss_trn = 0.4310703f0, time = 300784 milliseconds)\n",
      "(epoch = 1, accuracy_dev = 0.8686389622375471, loss_trn = 0.49200788f0, time = 360035 milliseconds)\n",
      "(epoch = 1, accuracy_dev = 0.8686389622375471, loss_trn = 0.22937676f0, time = 360669 milliseconds)\n",
      "(epoch = 1, accuracy_dev = 0.8703309662368293, loss_trn = 0.2298027f0, time = 420119 milliseconds)\n",
      "(epoch = 1, accuracy_dev = 0.8703309662368293, loss_trn = 0.3710442f0, time = 420773 milliseconds)\n",
      "(epoch = 1, accuracy_dev = 0.8695362370856513, loss_trn = 0.4521978f0, time = 480128 milliseconds)\n",
      "(epoch = 1, accuracy_dev = 0.8695362370856513, loss_trn = 0.007642269f0, time = 480721 milliseconds)\n",
      "(epoch = 1, accuracy_dev = 0.8692542364191043, loss_trn = -0.546193f0, time = 540085 milliseconds)\n",
      "(epoch = 1, accuracy_dev = 0.8692542364191043, loss_trn = 1.1281203f0, time = 540759 milliseconds)\n",
      "(epoch = 1, accuracy_dev = 0.8692285999948727, loss_trn = -0.13104686f0, time = 600062 milliseconds)\n",
      "(epoch = 1, accuracy_dev = 0.8692285999948727, loss_trn = 0.18246254f0, time = 600684 milliseconds)\n",
      "(epoch = 1, accuracy_dev = 0.8689978721767888, loss_trn = 0.629063f0, time = 660106 milliseconds)\n",
      "(epoch = 1, accuracy_dev = 0.8689978721767888, loss_trn = 0.29063973f0, time = 660752 milliseconds)\n",
      "(epoch = 1, accuracy_dev = 0.8691260542979465, loss_trn = 0.38722f0, time = 720136 milliseconds)\n",
      "(epoch = 1, accuracy_dev = 0.8691260542979465, loss_trn = 0.09023584f0, time = 720780 milliseconds)\n",
      "(epoch = 2, accuracy_dev = 0.8691773271464096, loss_trn = 0.21003395f0, time = 780100 milliseconds)\n",
      "(epoch = 2, accuracy_dev = 0.8691773271464096, loss_trn = 0.28853655f0, time = 780728 milliseconds)\n",
      "(epoch = 2, accuracy_dev = 0.8691773271464096, loss_trn = -1.1014482f0, time = 840091 milliseconds)\n",
      "(epoch = 2, accuracy_dev = 0.8691773271464096, loss_trn = 0.5742525f0, time = 840728 milliseconds)\n",
      "(epoch = 2, accuracy_dev = 0.8692542364191043, loss_trn = 0.23015814f0, time = 900053 milliseconds)\n",
      "(epoch = 2, accuracy_dev = 0.8692542364191043, loss_trn = 0.45293096f0, time = 900665 milliseconds)\n",
      "(epoch = 2, accuracy_dev = 0.8692542364191043, loss_trn = 0.44608182f0, time = 960061 milliseconds)\n",
      "(epoch = 2, accuracy_dev = 0.8692542364191043, loss_trn = 0.7650145f0, time = 960644 milliseconds)\n",
      "(epoch = 2, accuracy_dev = 0.8692542364191043, loss_trn = 0.4829285f0, time = 1020042 milliseconds)\n",
      "(epoch = 2, accuracy_dev = 0.8692542364191043, loss_trn = 0.5965253f0, time = 1020696 milliseconds)\n",
      "(epoch = 2, accuracy_dev = 0.8690235086010203, loss_trn = 0.94217396f0, time = 1080079 milliseconds)\n",
      "(epoch = 2, accuracy_dev = 0.8690235086010203, loss_trn = 0.6597417f0, time = 1080690 milliseconds)\n",
      "(epoch = 2, accuracy_dev = 0.8690235086010203, loss_trn = -0.14120902f0, time = 1140030 milliseconds)\n",
      "(epoch = 2, accuracy_dev = 0.8690235086010203, loss_trn = 0.00031089783f0, time = 1140627 milliseconds)\n",
      "(epoch = 2, accuracy_dev = 0.8692542364191043, loss_trn = -2.3305707f0, time = 1200082 milliseconds)\n",
      "(epoch = 2, accuracy_dev = 0.8692542364191043, loss_trn = 0.092240244f0, time = 1200688 milliseconds)\n",
      "(epoch = 2, accuracy_dev = 0.8687671443587048, loss_trn = 0.959811f0, time = 1260185 milliseconds)\n",
      "(epoch = 2, accuracy_dev = 0.8687671443587048, loss_trn = 0.2548277f0, time = 1260813 milliseconds)\n",
      "(epoch = 2, accuracy_dev = 0.8687671443587048, loss_trn = 0.13997458f0, time = 1320070 milliseconds)\n",
      "(epoch = 2, accuracy_dev = 0.8687671443587048, loss_trn = 0.4169668f0, time = 1320749 milliseconds)\n",
      "(epoch = 2, accuracy_dev = 0.8687671443587048, loss_trn = 0.15075913f0, time = 1380103 milliseconds)\n",
      "(epoch = 2, accuracy_dev = 0.8687671443587048, loss_trn = -0.029322164f0, time = 1380679 milliseconds)\n",
      "(epoch = 2, accuracy_dev = 0.8684595072679263, loss_trn = -0.49713314f0, time = 1440137 milliseconds)\n",
      "(epoch = 2, accuracy_dev = 0.8684595072679263, loss_trn = 0.6860736f0, time = 1440819 milliseconds)\n",
      "(epoch = 2, accuracy_dev = 0.8687158715102418, loss_trn = 0.03732615f0, time = 1500019 milliseconds)\n",
      "(epoch = 2, accuracy_dev = 0.8687158715102418, loss_trn = 0.06434664f0, time = 1500638 milliseconds)\n",
      "(epoch = 3, accuracy_dev = 0.8686389622375471, loss_trn = 0.16957894f0, time = 1560015 milliseconds)\n",
      "(epoch = 3, accuracy_dev = 0.8686389622375471, loss_trn = 0.06247948f0, time = 1560626 milliseconds)\n",
      "(epoch = 3, accuracy_dev = 0.8684851436921578, loss_trn = 0.49599093f0, time = 1620051 milliseconds)\n",
      "(epoch = 3, accuracy_dev = 0.8684851436921578, loss_trn = 0.22986838f0, time = 1620657 milliseconds)\n",
      "(epoch = 3, accuracy_dev = 0.8684338708436947, loss_trn = 0.49549156f0, time = 1680119 milliseconds)\n",
      "(epoch = 3, accuracy_dev = 0.8684338708436947, loss_trn = 0.105782956f0, time = 1680764 milliseconds)\n",
      "(epoch = 3, accuracy_dev = 0.8681775066013793, loss_trn = 0.6304134f0, time = 1740149 milliseconds)\n",
      "(epoch = 3, accuracy_dev = 0.8681775066013793, loss_trn = 1.0365099f0, time = 1740821 milliseconds)\n",
      "(epoch = 3, accuracy_dev = 0.8682800522983054, loss_trn = -0.053450495f0, time = 1800057 milliseconds)\n",
      "(epoch = 3, accuracy_dev = 0.8682800522983054, loss_trn = -0.92825454f0, time = 1800661 milliseconds)\n",
      "(epoch = 3, accuracy_dev = 0.8682287794498423, loss_trn = 1.3571013f0, time = 1860143 milliseconds)\n",
      "(epoch = 3, accuracy_dev = 0.8682287794498423, loss_trn = 0.9601942f0, time = 1860754 milliseconds)\n",
      "(epoch = 3, accuracy_dev = 0.8684082344194631, loss_trn = 0.12269364f0, time = 1920080 milliseconds)\n",
      "(epoch = 3, accuracy_dev = 0.8684082344194631, loss_trn = 0.21720363f0, time = 1920702 milliseconds)\n",
      "(epoch = 3, accuracy_dev = 0.8681262337529162, loss_trn = 0.07327971f0, time = 1980033 milliseconds)\n",
      "(epoch = 3, accuracy_dev = 0.8681262337529162, loss_trn = 0.17257324f0, time = 1980625 milliseconds)\n",
      "(epoch = 3, accuracy_dev = 0.8679467787832953, loss_trn = 0.37783095f0, time = 2040137 milliseconds)\n",
      "(epoch = 3, accuracy_dev = 0.8679467787832953, loss_trn = 0.2534964f0, time = 2040773 milliseconds)\n",
      "(epoch = 3, accuracy_dev = 0.8681262337529162, loss_trn = 0.0376784f0, time = 2100077 milliseconds)\n",
      "(epoch = 3, accuracy_dev = 0.8681262337529162, loss_trn = 0.017069835f0, time = 2100672 milliseconds)\n",
      "(epoch = 3, accuracy_dev = 0.8679467787832953, loss_trn = 0.25383288f0, time = 2160118 milliseconds)\n",
      "(epoch = 3, accuracy_dev = 0.8679467787832953, loss_trn = 0.114412114f0, time = 2160727 milliseconds)\n",
      "(epoch = 3, accuracy_dev = 0.8678955059348322, loss_trn = 0.02045551f0, time = 2220122 milliseconds)\n",
      "(epoch = 3, accuracy_dev = 0.8678955059348322, loss_trn = 0.01052434f0, time = 2220745 milliseconds)\n",
      "(epoch = 4, accuracy_dev = 0.8679211423590638, loss_trn = 0.19217162f0, time = 2280038 milliseconds)\n",
      "(epoch = 4, accuracy_dev = 0.8679211423590638, loss_trn = 0.2114183f0, time = 2280646 milliseconds)\n",
      "(epoch = 4, accuracy_dev = 0.8678955059348322, loss_trn = -2.103621f0, time = 2340087 milliseconds)\n",
      "(epoch = 4, accuracy_dev = 0.8678955059348322, loss_trn = -0.055375207f0, time = 2340690 milliseconds)\n",
      "(epoch = 4, accuracy_dev = 0.8676647781167482, loss_trn = 0.2799499f0, time = 2400097 milliseconds)\n",
      "(epoch = 4, accuracy_dev = 0.8676647781167482, loss_trn = 0.07222938f0, time = 2400721 milliseconds)\n",
      "(epoch = 4, accuracy_dev = 0.8675622324198221, loss_trn = 0.31222618f0, time = 2460092 milliseconds)\n"
     ]
    },
    {
     "name": "stdout",
     "output_type": "stream",
     "text": [
      "(epoch = 4, accuracy_dev = 0.8675622324198221, loss_trn = 0.24721563f0, time = 2460671 milliseconds)\n",
      "(epoch = 4, accuracy_dev = 0.8673571410259697, loss_trn = 0.59436446f0, time = 2520128 milliseconds)\n",
      "(epoch = 4, accuracy_dev = 0.8673571410259697, loss_trn = -0.1487853f0, time = 2520786 milliseconds)\n",
      "(epoch = 4, accuracy_dev = 0.8672802317532751, loss_trn = 0.44957504f0, time = 2580048 milliseconds)\n",
      "(epoch = 4, accuracy_dev = 0.8672802317532751, loss_trn = 0.6391899f0, time = 2580766 milliseconds)\n",
      "(epoch = 4, accuracy_dev = 0.8672545953290435, loss_trn = 0.09252235f0, time = 2640021 milliseconds)\n",
      "(epoch = 4, accuracy_dev = 0.867228958904812, loss_trn = -1.5117536f0, time = 2640626 milliseconds)\n",
      "(epoch = 4, accuracy_dev = 0.8670238675109596, loss_trn = 0.5377617f0, time = 2700095 milliseconds)\n",
      "(epoch = 4, accuracy_dev = 0.8668444125413387, loss_trn = -0.7339355f0, time = 2700716 milliseconds)\n",
      "(epoch = 4, accuracy_dev = 0.8667418668444126, loss_trn = 0.176253f0, time = 2760018 milliseconds)\n",
      "(epoch = 4, accuracy_dev = 0.8667418668444126, loss_trn = 0.12158662f0, time = 2760649 milliseconds)\n",
      "(epoch = 4, accuracy_dev = 0.8667418668444126, loss_trn = -2.9508884f0, time = 2820089 milliseconds)\n",
      "(epoch = 4, accuracy_dev = 0.8667418668444126, loss_trn = 0.24170741f0, time = 2820673 milliseconds)\n",
      "(epoch = 4, accuracy_dev = 0.866716230420181, loss_trn = 0.093366414f0, time = 2880021 milliseconds)\n",
      "(epoch = 4, accuracy_dev = 0.866716230420181, loss_trn = -0.62558067f0, time = 2880669 milliseconds)\n",
      "(epoch = 4, accuracy_dev = 0.8666649575717179, loss_trn = 0.031774357f0, time = 2940047 milliseconds)\n",
      "(epoch = 4, accuracy_dev = 0.8666649575717179, loss_trn = 0.01827306f0, time = 2940672 milliseconds)\n",
      "(epoch = 5, accuracy_dev = 0.8666649575717179, loss_trn = 0.033445057f0, time = 3000046 milliseconds)\n",
      "(epoch = 5, accuracy_dev = 0.8666649575717179, loss_trn = 0.085179955f0, time = 3000659 milliseconds)\n",
      "(epoch = 5, accuracy_dev = 0.8665880482990233, loss_trn = 0.032744236f0, time = 3060021 milliseconds)\n",
      "(epoch = 5, accuracy_dev = 0.8665880482990233, loss_trn = 0.034508433f0, time = 3060669 milliseconds)\n",
      "(epoch = 5, accuracy_dev = 0.8666393211474863, loss_trn = 0.15398495f0, time = 3120054 milliseconds)\n",
      "(epoch = 5, accuracy_dev = 0.8666393211474863, loss_trn = 0.21541418f0, time = 3120725 milliseconds)\n",
      "(epoch = 5, accuracy_dev = 0.8666649575717179, loss_trn = 0.38458663f0, time = 3180104 milliseconds)\n",
      "(epoch = 5, accuracy_dev = 0.8666649575717179, loss_trn = -0.35087165f0, time = 3180712 milliseconds)\n",
      "(epoch = 5, accuracy_dev = 0.8665880482990233, loss_trn = 0.1103726f0, time = 3240110 milliseconds)\n",
      "(epoch = 5, accuracy_dev = 0.8665880482990233, loss_trn = 0.05136003f0, time = 3240708 milliseconds)\n",
      "(epoch = 5, accuracy_dev = 0.8665880482990233, loss_trn = -0.8438238f0, time = 3300089 milliseconds)\n",
      "(epoch = 5, accuracy_dev = 0.8665880482990233, loss_trn = 0.87548053f0, time = 3300774 milliseconds)\n",
      "(epoch = 5, accuracy_dev = 0.8666649575717179, loss_trn = 0.83186024f0, time = 3360026 milliseconds)\n",
      "(epoch = 5, accuracy_dev = 0.8666649575717179, loss_trn = 0.047231704f0, time = 3360633 milliseconds)\n",
      "(epoch = 5, accuracy_dev = 0.8666136847232548, loss_trn = 0.7314739f0, time = 3420051 milliseconds)\n",
      "(epoch = 5, accuracy_dev = 0.8666136847232548, loss_trn = -1.5449166f0, time = 3420662 milliseconds)\n",
      "(epoch = 5, accuracy_dev = 0.8664598661778655, loss_trn = -8.526886f0, time = 3480092 milliseconds)\n",
      "(epoch = 5, accuracy_dev = 0.8664598661778655, loss_trn = 0.38218898f0, time = 3480720 milliseconds)\n",
      "(epoch = 5, accuracy_dev = 0.8664342297536339, loss_trn = 0.42723677f0, time = 3540039 milliseconds)\n",
      "(epoch = 5, accuracy_dev = 0.8664085933294025, loss_trn = 1.2582293f0, time = 3540772 milliseconds)\n",
      "(epoch = 5, accuracy_dev = 0.8665624118747917, loss_trn = 0.20617548f0, time = 3600070 milliseconds)\n",
      "(epoch = 5, accuracy_dev = 0.8665624118747917, loss_trn = 0.08871421f0, time = 3600733 milliseconds)\n",
      "(epoch = 5, accuracy_dev = 0.8663060476324762, loss_trn = 0.029925527f0, time = 3660034 milliseconds)\n",
      "(epoch = 5, accuracy_dev = 0.8663060476324762, loss_trn = 0.17031384f0, time = 3660697 milliseconds)\n",
      "(epoch = 5, accuracy_dev = 0.8665624118747917, loss_trn = -0.4120768f0, time = 3720028 milliseconds)\n",
      "(epoch = 5, accuracy_dev = 0.8665624118747917, loss_trn = 0.45988142f0, time = 3720968 milliseconds)\n",
      "(epoch = 6, accuracy_dev = 0.8665367754505602, loss_trn = 0.32146573f0, time = 3780123 milliseconds)\n",
      "(epoch = 6, accuracy_dev = 0.8665367754505602, loss_trn = 0.07940626f0, time = 3780780 milliseconds)\n",
      "(epoch = 6, accuracy_dev = 0.8663316840567078, loss_trn = 0.18319412f0, time = 3840058 milliseconds)\n",
      "(epoch = 6, accuracy_dev = 0.8663316840567078, loss_trn = 0.25845203f0, time = 3840677 milliseconds)\n",
      "(epoch = 6, accuracy_dev = 0.8663060476324762, loss_trn = 0.1114132f0, time = 3900025 milliseconds)\n",
      "(epoch = 6, accuracy_dev = 0.8663060476324762, loss_trn = 0.07254725f0, time = 3900630 milliseconds)\n",
      "(epoch = 6, accuracy_dev = 0.8663060476324762, loss_trn = 0.5550505f0, time = 3960041 milliseconds)\n",
      "(epoch = 6, accuracy_dev = 0.8663060476324762, loss_trn = -0.55572915f0, time = 3960641 milliseconds)\n",
      "(epoch = 6, accuracy_dev = 0.8664085933294025, loss_trn = 0.20623264f0, time = 4020050 milliseconds)\n",
      "(epoch = 6, accuracy_dev = 0.8664085933294025, loss_trn = 0.12397973f0, time = 4020636 milliseconds)\n",
      "(epoch = 6, accuracy_dev = 0.8663316840567078, loss_trn = 0.7130039f0, time = 4080114 milliseconds)\n",
      "(epoch = 6, accuracy_dev = 0.8663316840567078, loss_trn = 0.50782025f0, time = 4080738 milliseconds)\n",
      "(epoch = 6, accuracy_dev = 0.8663829569051709, loss_trn = 0.43836817f0, time = 4140029 milliseconds)\n",
      "(epoch = 6, accuracy_dev = 0.8663829569051709, loss_trn = -0.61722004f0, time = 4140632 milliseconds)\n",
      "(epoch = 6, accuracy_dev = 0.8663060476324762, loss_trn = 2.398131f0, time = 4200085 milliseconds)\n",
      "(epoch = 6, accuracy_dev = 0.8663060476324762, loss_trn = -4.2765694f0, time = 4200676 milliseconds)\n",
      "(epoch = 6, accuracy_dev = 0.8671776860563488, loss_trn = 0.1981795f0, time = 4260024 milliseconds)\n",
      "(epoch = 6, accuracy_dev = 0.8671776860563488, loss_trn = 0.49019435f0, time = 4260633 milliseconds)\n",
      "(epoch = 6, accuracy_dev = 0.8667418668444126, loss_trn = -3.1695516f0, time = 4320127 milliseconds)\n",
      "(epoch = 6, accuracy_dev = 0.8667418668444126, loss_trn = 0.9430374f0, time = 4320755 milliseconds)\n",
      "(epoch = 6, accuracy_dev = 0.8666136847232548, loss_trn = -0.106986985f0, time = 4380016 milliseconds)\n",
      "(epoch = 6, accuracy_dev = 0.8666136847232548, loss_trn = -4.4566026f0, time = 4380678 milliseconds)\n",
      "(epoch = 6, accuracy_dev = 0.8666136847232548, loss_trn = 0.042571384f0, time = 4440085 milliseconds)\n",
      "(epoch = 6, accuracy_dev = 0.8666136847232548, loss_trn = 0.027107256f0, time = 4440694 milliseconds)\n",
      "(epoch = 7, accuracy_dev = 0.8665624118747917, loss_trn = 0.37287623f0, time = 4500098 milliseconds)\n",
      "(epoch = 7, accuracy_dev = 0.8665624118747917, loss_trn = -0.18022363f0, time = 4500687 milliseconds)\n",
      "(epoch = 7, accuracy_dev = 0.8664342297536339, loss_trn = -0.14780007f0, time = 4560061 milliseconds)\n",
      "(epoch = 7, accuracy_dev = 0.8664342297536339, loss_trn = 0.30405915f0, time = 4560649 milliseconds)\n",
      "(epoch = 7, accuracy_dev = 0.8661778655113185, loss_trn = 0.17641309f0, time = 4620063 milliseconds)\n",
      "(epoch = 7, accuracy_dev = 0.8661778655113185, loss_trn = 0.095737666f0, time = 4620638 milliseconds)\n",
      "(epoch = 7, accuracy_dev = 0.8661778655113185, loss_trn = 1.1010214f0, time = 4680057 milliseconds)\n",
      "(epoch = 7, accuracy_dev = 0.8661778655113185, loss_trn = 0.1648801f0, time = 4680675 milliseconds)\n",
      "(epoch = 7, accuracy_dev = 0.8660496833901608, loss_trn = -2.152892f0, time = 4740028 milliseconds)\n",
      "(epoch = 7, accuracy_dev = 0.8660496833901608, loss_trn = -0.03243065f0, time = 4740684 milliseconds)\n",
      "(epoch = 7, accuracy_dev = 0.8660240469659292, loss_trn = -13.985736f0, time = 4800121 milliseconds)\n",
      "(epoch = 7, accuracy_dev = 0.8660240469659292, loss_trn = 0.43805572f0, time = 4800728 milliseconds)\n",
      "(epoch = 7, accuracy_dev = 0.8660240469659292, loss_trn = 0.7854352f0, time = 4860133 milliseconds)\n",
      "(epoch = 7, accuracy_dev = 0.8660240469659292, loss_trn = 0.7079645f0, time = 4860801 milliseconds)\n",
      "(epoch = 7, accuracy_dev = 0.8657676827236137, loss_trn = 1.4722893f0, time = 4920152 milliseconds)\n"
     ]
    },
    {
     "name": "stdout",
     "output_type": "stream",
     "text": [
      "(epoch = 7, accuracy_dev = 0.8657676827236137, loss_trn = 1.0706848f0, time = 4920790 milliseconds)\n",
      "(epoch = 7, accuracy_dev = 0.865690773450919, loss_trn = -0.06381108f0, time = 4980037 milliseconds)\n",
      "(epoch = 7, accuracy_dev = 0.865690773450919, loss_trn = 0.2063953f0, time = 4980632 milliseconds)\n",
      "(epoch = 7, accuracy_dev = 0.8649473171482042, loss_trn = 0.1562514f0, time = 5040098 milliseconds)\n",
      "(epoch = 7, accuracy_dev = 0.8649473171482042, loss_trn = 0.15792933f0, time = 5040686 milliseconds)\n",
      "(epoch = 7, accuracy_dev = 0.8645114979362678, loss_trn = 0.67741704f0, time = 5100121 milliseconds)\n",
      "(epoch = 7, accuracy_dev = 0.8645114979362678, loss_trn = 0.15026623f0, time = 5100713 milliseconds)\n",
      "(epoch = 7, accuracy_dev = 0.8641269515727946, loss_trn = 0.007943999f0, time = 5160074 milliseconds)\n",
      "(epoch = 7, accuracy_dev = 0.8641269515727946, loss_trn = -0.39898464f0, time = 5160687 milliseconds)\n",
      "(epoch = 8, accuracy_dev = 0.8641269515727946, loss_trn = 0.53637934f0, time = 5220100 milliseconds)\n",
      "(epoch = 8, accuracy_dev = 0.8641269515727946, loss_trn = 0.4585732f0, time = 5220721 milliseconds)\n",
      "(epoch = 8, accuracy_dev = 0.8640244058758685, loss_trn = 0.068397164f0, time = 5280053 milliseconds)\n",
      "(epoch = 8, accuracy_dev = 0.8640244058758685, loss_trn = -0.36569345f0, time = 5280679 milliseconds)\n",
      "(epoch = 8, accuracy_dev = 0.8638962237547106, loss_trn = -2.5094576f0, time = 5340071 milliseconds)\n",
      "(epoch = 8, accuracy_dev = 0.8638962237547106, loss_trn = 0.6513465f0, time = 5340664 milliseconds)\n",
      "(epoch = 8, accuracy_dev = 0.864562770784731, loss_trn = 1.4839166f0, time = 5400141 milliseconds)\n",
      "(epoch = 8, accuracy_dev = 0.864562770784731, loss_trn = 0.92217296f0, time = 5400756 milliseconds)\n",
      "(epoch = 8, accuracy_dev = 0.8642551336939523, loss_trn = 0.6117268f0, time = 5460100 milliseconds)\n",
      "(epoch = 8, accuracy_dev = 0.8642551336939523, loss_trn = -0.23093322f0, time = 5460721 milliseconds)\n",
      "(epoch = 8, accuracy_dev = 0.8641782244212577, loss_trn = 0.3181194f0, time = 5520100 milliseconds)\n",
      "(epoch = 8, accuracy_dev = 0.8641782244212577, loss_trn = 0.30806392f0, time = 5520701 milliseconds)\n",
      "(epoch = 8, accuracy_dev = 0.8638705873304792, loss_trn = 0.10887441f0, time = 5580048 milliseconds)\n",
      "(epoch = 8, accuracy_dev = 0.8638962237547106, loss_trn = 0.11732286f0, time = 5580668 milliseconds)\n",
      "(epoch = 8, accuracy_dev = 0.8637680416335529, loss_trn = 0.47532034f0, time = 5640130 milliseconds)\n",
      "(epoch = 8, accuracy_dev = 0.8637680416335529, loss_trn = -0.25158605f0, time = 5640726 milliseconds)\n",
      "(epoch = 8, accuracy_dev = 0.8635116773912375, loss_trn = 0.40605462f0, time = 5700082 milliseconds)\n",
      "(epoch = 8, accuracy_dev = 0.8635116773912375, loss_trn = 0.2991439f0, time = 5700687 milliseconds)\n",
      "(epoch = 8, accuracy_dev = 0.8634860409670059, loss_trn = 0.95265067f0, time = 5760105 milliseconds)\n",
      "(epoch = 8, accuracy_dev = 0.8634860409670059, loss_trn = -0.6345308f0, time = 5760779 milliseconds)\n",
      "(epoch = 8, accuracy_dev = 0.8633065859973851, loss_trn = 0.1471658f0, time = 5820059 milliseconds)\n",
      "(epoch = 8, accuracy_dev = 0.8633065859973851, loss_trn = 0.89248586f0, time = 5820716 milliseconds)\n",
      "(epoch = 8, accuracy_dev = 0.863255313148922, loss_trn = -1.0214102f0, time = 5880065 milliseconds)\n",
      "(epoch = 8, accuracy_dev = 0.863255313148922, loss_trn = -0.2824912f0, time = 5880667 milliseconds)\n",
      "(epoch = 8, accuracy_dev = 0.8633322224216167, loss_trn = 0.71540725f0, time = 5940020 milliseconds)\n",
      "(epoch = 8, accuracy_dev = 0.8633322224216167, loss_trn = 0.6329592f0, time = 5940734 milliseconds)\n",
      "(epoch = 9, accuracy_dev = 0.8625118568462071, loss_trn = -0.51142895f0, time = 6000045 milliseconds)\n",
      "(epoch = 9, accuracy_dev = 0.8625118568462071, loss_trn = 1.5892323f0, time = 6000700 milliseconds)\n",
      "(epoch = 9, accuracy_dev = 0.8624349475735125, loss_trn = 0.23715691f0, time = 6060043 milliseconds)\n",
      "(epoch = 9, accuracy_dev = 0.8624349475735125, loss_trn = 0.08558066f0, time = 6060648 milliseconds)\n",
      "(epoch = 9, accuracy_dev = 0.8623580383008178, loss_trn = -9.262716f0, time = 6120051 milliseconds)\n",
      "(epoch = 9, accuracy_dev = 0.8623580383008178, loss_trn = 0.7963246f0, time = 6120644 milliseconds)\n",
      "(epoch = 9, accuracy_dev = 0.8617171276950291, loss_trn = -5.771676f0, time = 6180088 milliseconds)\n",
      "(epoch = 9, accuracy_dev = 0.8617171276950291, loss_trn = 0.546266f0, time = 6180702 milliseconds)\n",
      "(epoch = 9, accuracy_dev = 0.8617427641192607, loss_trn = 0.23127036f0, time = 6240033 milliseconds)\n",
      "(epoch = 9, accuracy_dev = 0.8617427641192607, loss_trn = 0.117258236f0, time = 6240639 milliseconds)\n",
      "(epoch = 9, accuracy_dev = 0.8615120363011767, loss_trn = 0.54534173f0, time = 6300029 milliseconds)\n",
      "(epoch = 9, accuracy_dev = 0.8615120363011767, loss_trn = 0.4421039f0, time = 6300664 milliseconds)\n",
      "(epoch = 9, accuracy_dev = 0.8614863998769452, loss_trn = 0.3241742f0, time = 6360026 milliseconds)\n",
      "(epoch = 9, accuracy_dev = 0.8614863998769452, loss_trn = 0.1422111f0, time = 6360666 milliseconds)\n",
      "(epoch = 9, accuracy_dev = 0.8608454892711564, loss_trn = 1.8322555f0, time = 6420061 milliseconds)\n",
      "(epoch = 9, accuracy_dev = 0.8608454892711564, loss_trn = -0.3755041f0, time = 6420652 milliseconds)\n",
      "(epoch = 9, accuracy_dev = 0.8607942164226934, loss_trn = 0.37549984f0, time = 6480021 milliseconds)\n",
      "(epoch = 9, accuracy_dev = 0.8607685799984618, loss_trn = -17.933184f0, time = 6480637 milliseconds)\n",
      "(epoch = 9, accuracy_dev = 0.8606660343015357, loss_trn = 0.59988487f0, time = 6540116 milliseconds)\n",
      "(epoch = 9, accuracy_dev = 0.8606660343015357, loss_trn = 0.08125053f0, time = 6540705 milliseconds)\n",
      "(epoch = 9, accuracy_dev = 0.8607173071499987, loss_trn = -1.2984556f0, time = 6600155 milliseconds)\n",
      "(epoch = 9, accuracy_dev = 0.8607173071499987, loss_trn = 0.29314065f0, time = 6600819 milliseconds)\n",
      "(epoch = 9, accuracy_dev = 0.8606147614530725, loss_trn = 0.36975497f0, time = 6660109 milliseconds)\n",
      "(epoch = 9, accuracy_dev = 0.8606147614530725, loss_trn = 0.4885615f0, time = 6660787 milliseconds)\n",
      "(epoch = 10, accuracy_dev = 0.8606660343015357, loss_trn = 0.20072241f0, time = 6720120 milliseconds)\n",
      "(epoch = 10, accuracy_dev = 0.8606660343015357, loss_trn = 0.098671205f0, time = 6720757 milliseconds)\n",
      "(epoch = 10, accuracy_dev = 0.8604865793319147, loss_trn = -0.07141318f0, time = 6780053 milliseconds)\n",
      "(epoch = 10, accuracy_dev = 0.8604865793319147, loss_trn = 0.4865809f0, time = 6780739 milliseconds)\n",
      "(epoch = 10, accuracy_dev = 0.8604096700592201, loss_trn = 0.036001932f0, time = 6840101 milliseconds)\n",
      "(epoch = 10, accuracy_dev = 0.8604096700592201, loss_trn = 0.1151976f0, time = 6840709 milliseconds)\n",
      "(epoch = 10, accuracy_dev = 0.8603327607865255, loss_trn = 0.12293218f0, time = 6900039 milliseconds)\n",
      "(epoch = 10, accuracy_dev = 0.8603327607865255, loss_trn = -11.196652f0, time = 6900651 milliseconds)\n",
      "(epoch = 10, accuracy_dev = 0.860307124362294, loss_trn = 0.05167296f0, time = 6960037 milliseconds)\n",
      "(epoch = 10, accuracy_dev = 0.860307124362294, loss_trn = 1.0128939f0, time = 6960659 milliseconds)\n",
      "(epoch = 10, accuracy_dev = 0.8595636680595791, loss_trn = -11.636528f0, time = 7020076 milliseconds)\n",
      "(epoch = 10, accuracy_dev = 0.8595636680595791, loss_trn = 2.7153382f0, time = 7020724 milliseconds)\n",
      "(epoch = 10, accuracy_dev = 0.8595380316353475, loss_trn = 1.3242526f0, time = 7080135 milliseconds)\n",
      "(epoch = 10, accuracy_dev = 0.8595636680595791, loss_trn = 0.80489063f0, time = 7080773 milliseconds)\n",
      "(epoch = 10, accuracy_dev = 0.8594867587868844, loss_trn = 1.417108f0, time = 7140041 milliseconds)\n",
      "(epoch = 10, accuracy_dev = 0.8594867587868844, loss_trn = 0.12633179f0, time = 7140655 milliseconds)\n",
      "(epoch = 10, accuracy_dev = 0.8591791216961058, loss_trn = 0.39142078f0, time = 7200098 milliseconds)\n",
      "(epoch = 10, accuracy_dev = 0.8591791216961058, loss_trn = 0.5617354f0, time = 7200791 milliseconds)\n",
      "(epoch = 10, accuracy_dev = 0.859230394544569, loss_trn = 0.29986882f0, time = 7260063 milliseconds)\n",
      "(epoch = 10, accuracy_dev = 0.859230394544569, loss_trn = 0.08856563f0, time = 7260733 milliseconds)\n",
      "(epoch = 10, accuracy_dev = 0.859230394544569, loss_trn = 0.3409584f0, time = 7320139 milliseconds)\n",
      "(epoch = 10, accuracy_dev = 0.859230394544569, loss_trn = -0.07119962f0, time = 7320779 milliseconds)\n",
      "(epoch = 10, accuracy_dev = 0.8591791216961058, loss_trn = 0.13446108f0, time = 7380095 milliseconds)\n"
     ]
    },
    {
     "name": "stdout",
     "output_type": "stream",
     "text": [
      "(epoch = 10, accuracy_dev = 0.8591791216961058, loss_trn = 0.07343376f0, time = 7380713 milliseconds)\n"
     ]
    }
   ],
   "source": [
    "optimize(RL2, train;seconds=60,epoch=10)"
   ]
  },
  {
   "cell_type": "code",
   "execution_count": null,
   "metadata": {},
   "outputs": [],
   "source": []
  },
  {
   "cell_type": "code",
   "execution_count": null,
   "metadata": {},
   "outputs": [],
   "source": []
  },
  {
   "cell_type": "code",
   "execution_count": null,
   "metadata": {},
   "outputs": [],
   "source": []
  }
 ],
 "metadata": {
  "@webio": {
   "lastCommId": null,
   "lastKernelId": null
  },
  "kernelspec": {
   "display_name": "Julia 1.2.0",
   "language": "julia",
   "name": "julia-1.2"
  },
  "language_info": {
   "file_extension": ".jl",
   "mimetype": "application/julia",
   "name": "julia",
   "version": "1.2.0"
  }
 },
 "nbformat": 4,
 "nbformat_minor": 2
}
