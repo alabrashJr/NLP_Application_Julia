{
 "cells": [
  {
   "cell_type": "code",
   "execution_count": 40,
   "metadata": {},
   "outputs": [],
   "source": [
    "using DataStructures: DefaultDict\n",
    "using Printf"
   ]
  },
  {
   "cell_type": "code",
   "execution_count": 41,
   "metadata": {},
   "outputs": [
    {
     "data": {
      "text/plain": [
       "clean_text (generic function with 1 method)"
      ]
     },
     "execution_count": 41,
     "metadata": {},
     "output_type": "execute_result"
    }
   ],
   "source": [
    "#function to preprocessing the text\n",
    "function clean_text(text)\n",
    "punctuation=r\"[(\\(\\)\\\",.!?;)]\"\n",
    "text=replace(lowercase(text),\n",
    "    r\"<.*?>\"=>\" \")\n",
    "text=replace(\n",
    "    text,\n",
    "    punctuation=>\"\")\n",
    " text\n",
    "end"
   ]
  },
  {
   "cell_type": "code",
   "execution_count": 42,
   "metadata": {},
   "outputs": [],
   "source": [
    "#read train data\n",
    "postive_doc=Dict()\n",
    "negative_doc=Dict()\n",
    "\n",
    "foreach(readdir(\"./aclImdb/train/pos/\")) do f\n",
    "    postive_doc[f]=clean_text(read(string(\"./aclImdb/train/pos/\",f),String))\n",
    "end\n",
    "\n",
    "foreach(readdir(\"./aclImdb/train/neg/\")) do f\n",
    "    negative_doc[f]=clean_text(read(string(\"./aclImdb/train/neg/\",f),String))\n",
    "end"
   ]
  },
  {
   "cell_type": "code",
   "execution_count": 43,
   "metadata": {},
   "outputs": [
    {
     "data": {
      "text/plain": [
       "count_by_word_neg (generic function with 1 method)"
      ]
     },
     "execution_count": 43,
     "metadata": {},
     "output_type": "execute_result"
    }
   ],
   "source": [
    "#count function initialization\n",
    "count_dict_pos = DefaultDict(0)\n",
    "count_dict_neg=DefaultDict(0)\n",
    "count_by_word_pos(x)=count_dict_pos[x]+=1\n",
    "count_by_word_neg(x)=count_dict_neg[x]+=1"
   ]
  },
  {
   "cell_type": "code",
   "execution_count": 44,
   "metadata": {},
   "outputs": [],
   "source": [
    "#count the words in the documents\n",
    "for x in split.(values(postive_doc))\n",
    "    count_by_word_pos.(x)\n",
    "end\n",
    "for x in split.(values(negative_doc))\n",
    "    count_by_word_neg.(x)\n",
    "end"
   ]
  },
  {
   "cell_type": "code",
   "execution_count": 45,
   "metadata": {},
   "outputs": [],
   "source": [
    "global_dict=merge(+,count_dict_pos,count_dict_neg);\n",
    "global_dict=Dict(k=>global_dict[k] for k in keys(global_dict) if global_dict[k]>10);"
   ]
  },
  {
   "cell_type": "code",
   "execution_count": 46,
   "metadata": {
    "scrolled": true
   },
   "outputs": [],
   "source": [
    "w_count_dict_pos=Dict(k=>count_dict_pos[k] for k in keys(global_dict));\n",
    "w_count_dict_neg=Dict(k=>count_dict_neg[k] for k in keys(global_dict));"
   ]
  },
  {
   "cell_type": "code",
   "execution_count": 47,
   "metadata": {},
   "outputs": [],
   "source": [
    "unkown_keys=setdiff(collect(keys(count_dict_pos)), collect(keys(w_count_dict_pos)));\n",
    "unk_pos=Dict(k=>get(count_dict_pos,k,0) for k in unkown_keys);\n",
    "unk_neg=Dict(k=>get(count_dict_neg,k,0) for k in unkown_keys);"
   ]
  },
  {
   "cell_type": "code",
   "execution_count": 48,
   "metadata": {},
   "outputs": [
    {
     "name": "stdout",
     "output_type": "stream",
     "text": [
      "sum(values(w_count_dict_pos)) + sum(values(unk_pos)) = 2928246\n",
      "sum(values(w_count_dict_neg)) + sum(values(unk_neg)) = 2795462\n",
      "sum(values(unk_pos)) = 115764\n",
      "sum(values(unk_neg)) = 50684\n"
     ]
    },
    {
     "data": {
      "text/plain": [
       "50684"
      ]
     },
     "execution_count": 48,
     "metadata": {},
     "output_type": "execute_result"
    }
   ],
   "source": [
    "@show sum(values(w_count_dict_pos))+sum(values(unk_pos))\n",
    "@show sum(values(w_count_dict_neg))+sum(values(unk_neg))\n",
    "@show sum(values(unk_pos))\n",
    "@show sum(values(unk_neg))"
   ]
  },
  {
   "cell_type": "code",
   "execution_count": 49,
   "metadata": {},
   "outputs": [
    {
     "data": {
      "text/plain": [
       "0.5"
      ]
     },
     "execution_count": 49,
     "metadata": {},
     "output_type": "execute_result"
    }
   ],
   "source": [
    "#Number of classes and their frequency \n",
    "total_neg_word_number=sum(values(w_count_dict_neg))\n",
    "total_pos_word_number=sum(values(w_count_dict_pos))\n",
    "pos_class_ratio=length(postive_doc)/(length(postive_doc)+length(negative_doc))\n",
    "neg_class_ratio=length(negative_doc)/(length(postive_doc)+length(negative_doc))"
   ]
  },
  {
   "cell_type": "code",
   "execution_count": 50,
   "metadata": {},
   "outputs": [
    {
     "data": {
      "text/plain": [
       "0.018465609969185122"
      ]
     },
     "execution_count": 50,
     "metadata": {},
     "output_type": "execute_result"
    }
   ],
   "source": [
    "dict_pos_pro=Dict(k=>w_count_dict_pos[k]/total_pos_word_number for k in keys(w_count_dict_pos))\n",
    "dict_pos_pro[\"<UNK>\"]=sum(values(unk_pos))/total_pos_word_number\n",
    "dict_neg_pro=Dict(k=>w_count_dict_neg[k]/total_neg_word_number for k in keys(w_count_dict_neg))\n",
    "dict_neg_pro[\"<UNK>\"]=sum(values(unk_neg))/total_neg_word_number"
   ]
  },
  {
   "cell_type": "code",
   "execution_count": 51,
   "metadata": {},
   "outputs": [
    {
     "data": {
      "text/plain": [
       "get_prob_negat_text (generic function with 1 method)"
      ]
     },
     "execution_count": 51,
     "metadata": {},
     "output_type": "execute_result"
    }
   ],
   "source": [
    "get_prob_post_word(x)=get(dict_pos_pro,x,dict_pos_pro[\"<UNK>\"])\n",
    "get_prob_negat_word(x)=get(dict_neg_pro,x,dict_neg_pro[\"<UNK>\"])\n",
    "\n",
    "get_prob_post_text(x)=  log10(pos_class_ratio) + sum(log10.(get_prob_post_word.(split(clean_text(x)))))\n",
    "get_prob_negat_text(x)=log10(neg_class_ratio) + sum(log10.(get_prob_negat_word.(split(clean_text(x)))))"
   ]
  },
  {
   "cell_type": "code",
   "execution_count": 52,
   "metadata": {},
   "outputs": [
    {
     "data": {
      "text/plain": [
       "0.0"
      ]
     },
     "execution_count": 52,
     "metadata": {},
     "output_type": "execute_result"
    }
   ],
   "source": [
    "TP=0.0\n",
    "FN=0.0\n",
    "FP=0.0\n",
    "TN=0.0"
   ]
  },
  {
   "cell_type": "code",
   "execution_count": 53,
   "metadata": {},
   "outputs": [],
   "source": [
    "#test accuarcy calculating\n",
    "for x in readdir(\"./aclImdb/train/pos/\")\n",
    "    #println(\"\\nObject: \", f)\n",
    "     text=read(string(\"./aclImdb/train/pos/\",x),String)\n",
    "     p= get_prob_post_text(text)\n",
    "     n=get_prob_negat_text(text)\n",
    "    if p >=n\n",
    "        TP+=1\n",
    "    else\n",
    "        FP+= 1\n",
    "    end\n",
    "end\n",
    "\n",
    "for x in readdir(\"./aclImdb/test/neg/\")\n",
    "    text=clean_text(read(string(\"./aclImdb/test/neg/\",x),String))\n",
    "    if get_prob_negat_text(text)>=get_prob_post_text(text);TN+=1\n",
    "    else;FN+=1;end\n",
    "end\n"
   ]
  },
  {
   "cell_type": "code",
   "execution_count": 54,
   "metadata": {},
   "outputs": [
    {
     "data": {
      "text/plain": [
       "precesion (generic function with 1 method)"
      ]
     },
     "execution_count": 54,
     "metadata": {},
     "output_type": "execute_result"
    }
   ],
   "source": [
    "accuarcy(TP,FN,FP,TN)=(TN+TP)/(TP+FN+FP+TN)\n",
    "recall(TP,FN)=TP/(TP+FN)\n",
    "precesion(TP,FP)=TP/(TP+FP)"
   ]
  },
  {
   "cell_type": "code",
   "execution_count": 55,
   "metadata": {},
   "outputs": [
    {
     "name": "stdout",
     "output_type": "stream",
     "text": [
      "The accuarcy is 82.04 %\n"
     ]
    }
   ],
   "source": [
    "println(\"The accuarcy is $(@sprintf(\"%.2f\", accuarcy(TP,FN,FP,TN)*100)) %\")"
   ]
  },
  {
   "cell_type": "code",
   "execution_count": 56,
   "metadata": {},
   "outputs": [
    {
     "data": {
      "text/plain": [
       "\"The recall is 77.57 %\""
      ]
     },
     "execution_count": 56,
     "metadata": {},
     "output_type": "execute_result"
    }
   ],
   "source": [
    "\"The recall is $(@sprintf(\"%.2f\", recall(TP,FN)*100)) %\""
   ]
  },
  {
   "cell_type": "code",
   "execution_count": 57,
   "metadata": {},
   "outputs": [
    {
     "data": {
      "text/plain": [
       "\"The precesion is 90.15 %\""
      ]
     },
     "execution_count": 57,
     "metadata": {},
     "output_type": "execute_result"
    }
   ],
   "source": [
    "\"The precesion is $(@sprintf(\"%.2f\", precesion(TP,FP)*100)) %\""
   ]
  },
  {
   "cell_type": "code",
   "execution_count": 79,
   "metadata": {},
   "outputs": [
    {
     "name": "stdout",
     "output_type": "stream",
     "text": [
      "Total=25000.0\n",
      "\t\t\tActual True\tActual False\n",
      "\n",
      "True Predicition\t11269.0\t\t1231.0\n",
      "\n",
      "False Prediction\t3259.0\t\t9241.0"
     ]
    }
   ],
   "source": [
    "print(\"Total=$(TP+FN+FP+TN)\\n\\t\\t\\tActual True\\tActual False\\n\\nTrue Predicition\\t$TP\\t\\t$FP\\n\\nFalse Prediction\\t$FN\\t\\t$TN\")"
   ]
  },
  {
   "cell_type": "code",
   "execution_count": null,
   "metadata": {},
   "outputs": [],
   "source": []
  }
 ],
 "metadata": {
  "@webio": {
   "lastCommId": null,
   "lastKernelId": null
  },
  "kernelspec": {
   "display_name": "Julia 1.0.3",
   "language": "julia",
   "name": "julia-1.0"
  },
  "language_info": {
   "file_extension": ".jl",
   "mimetype": "application/julia",
   "name": "julia",
   "version": "1.0.3"
  }
 },
 "nbformat": 4,
 "nbformat_minor": 2
}
